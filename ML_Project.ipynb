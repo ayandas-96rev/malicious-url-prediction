{
 "cells": [
  {
   "cell_type": "code",
   "execution_count": 3,
   "metadata": {},
   "outputs": [],
   "source": [
    "import numpy as np\n",
    "import pandas as pd\n",
    "import matplotlib.pyplot as plt\n",
    "from sklearn.preprocessing import LabelEncoder\n",
    "from tld import get_tld\n",
    "from urllib.parse import urlparse\n",
    "import re\n",
    "import seaborn as sns"
   ]
  },
  {
   "cell_type": "code",
   "execution_count": 5,
   "metadata": {},
   "outputs": [
    {
     "data": {
      "text/html": [
       "<div>\n",
       "<style scoped>\n",
       "    .dataframe tbody tr th:only-of-type {\n",
       "        vertical-align: middle;\n",
       "    }\n",
       "\n",
       "    .dataframe tbody tr th {\n",
       "        vertical-align: top;\n",
       "    }\n",
       "\n",
       "    .dataframe thead th {\n",
       "        text-align: right;\n",
       "    }\n",
       "</style>\n",
       "<table border=\"1\" class=\"dataframe\">\n",
       "  <thead>\n",
       "    <tr style=\"text-align: right;\">\n",
       "      <th></th>\n",
       "      <th>url</th>\n",
       "      <th>type</th>\n",
       "    </tr>\n",
       "  </thead>\n",
       "  <tbody>\n",
       "    <tr>\n",
       "      <th>0</th>\n",
       "      <td>br-icloud.com.br</td>\n",
       "      <td>phishing</td>\n",
       "    </tr>\n",
       "    <tr>\n",
       "      <th>1</th>\n",
       "      <td>mp3raid.com/music/krizz_kaliko.html</td>\n",
       "      <td>benign</td>\n",
       "    </tr>\n",
       "    <tr>\n",
       "      <th>2</th>\n",
       "      <td>bopsecrets.org/rexroth/cr/1.htm</td>\n",
       "      <td>benign</td>\n",
       "    </tr>\n",
       "    <tr>\n",
       "      <th>3</th>\n",
       "      <td>http://www.garage-pirenne.be/index.php?option=...</td>\n",
       "      <td>defacement</td>\n",
       "    </tr>\n",
       "    <tr>\n",
       "      <th>4</th>\n",
       "      <td>http://adventure-nicaragua.net/index.php?optio...</td>\n",
       "      <td>defacement</td>\n",
       "    </tr>\n",
       "  </tbody>\n",
       "</table>\n",
       "</div>"
      ],
      "text/plain": [
       "                                                 url        type\n",
       "0                                   br-icloud.com.br    phishing\n",
       "1                mp3raid.com/music/krizz_kaliko.html      benign\n",
       "2                    bopsecrets.org/rexroth/cr/1.htm      benign\n",
       "3  http://www.garage-pirenne.be/index.php?option=...  defacement\n",
       "4  http://adventure-nicaragua.net/index.php?optio...  defacement"
      ]
     },
     "execution_count": 5,
     "metadata": {},
     "output_type": "execute_result"
    }
   ],
   "source": [
    "url_data = pd.read_csv('./malicious.csv')\n",
    "url_data.head()"
   ]
  },
  {
   "cell_type": "markdown",
   "metadata": {},
   "source": [
    "# Dataset Information"
   ]
  },
  {
   "cell_type": "code",
   "execution_count": 6,
   "metadata": {},
   "outputs": [
    {
     "name": "stdout",
     "output_type": "stream",
     "text": [
      "Shape of dataset:  (651191, 2) \n",
      "\n",
      "<class 'pandas.core.frame.DataFrame'>\n",
      "RangeIndex: 651191 entries, 0 to 651190\n",
      "Data columns (total 2 columns):\n",
      " #   Column  Non-Null Count   Dtype \n",
      "---  ------  --------------   ----- \n",
      " 0   url     651191 non-null  object\n",
      " 1   type    651191 non-null  object\n",
      "dtypes: object(2)\n",
      "memory usage: 9.9+ MB\n",
      "\n",
      "Total no. of Null Values: \n",
      " url     0\n",
      "type    0\n",
      "dtype: int64\n"
     ]
    }
   ],
   "source": [
    "print(\"Shape of dataset: \", url_data.shape, \"\\n\")\n",
    "url_data.info()\n",
    "print(\"\\nTotal no. of Null Values: \\n\", url_data.isnull().sum())"
   ]
  },
  {
   "cell_type": "markdown",
   "metadata": {},
   "source": [
    "# Labelling Dataset\n",
    "- LabelEncoding 'Type' column"
   ]
  },
  {
   "cell_type": "code",
   "execution_count": 7,
   "metadata": {},
   "outputs": [
    {
     "data": {
      "text/html": [
       "<div>\n",
       "<style scoped>\n",
       "    .dataframe tbody tr th:only-of-type {\n",
       "        vertical-align: middle;\n",
       "    }\n",
       "\n",
       "    .dataframe tbody tr th {\n",
       "        vertical-align: top;\n",
       "    }\n",
       "\n",
       "    .dataframe thead th {\n",
       "        text-align: right;\n",
       "    }\n",
       "</style>\n",
       "<table border=\"1\" class=\"dataframe\">\n",
       "  <thead>\n",
       "    <tr style=\"text-align: right;\">\n",
       "      <th></th>\n",
       "      <th>url</th>\n",
       "      <th>type</th>\n",
       "      <th>label</th>\n",
       "    </tr>\n",
       "  </thead>\n",
       "  <tbody>\n",
       "    <tr>\n",
       "      <th>0</th>\n",
       "      <td>br-icloud.com.br</td>\n",
       "      <td>phishing</td>\n",
       "      <td>3</td>\n",
       "    </tr>\n",
       "    <tr>\n",
       "      <th>1</th>\n",
       "      <td>mp3raid.com/music/krizz_kaliko.html</td>\n",
       "      <td>benign</td>\n",
       "      <td>0</td>\n",
       "    </tr>\n",
       "    <tr>\n",
       "      <th>2</th>\n",
       "      <td>bopsecrets.org/rexroth/cr/1.htm</td>\n",
       "      <td>benign</td>\n",
       "      <td>0</td>\n",
       "    </tr>\n",
       "    <tr>\n",
       "      <th>3</th>\n",
       "      <td>http://www.garage-pirenne.be/index.php?option=...</td>\n",
       "      <td>defacement</td>\n",
       "      <td>1</td>\n",
       "    </tr>\n",
       "    <tr>\n",
       "      <th>4</th>\n",
       "      <td>http://adventure-nicaragua.net/index.php?optio...</td>\n",
       "      <td>defacement</td>\n",
       "      <td>1</td>\n",
       "    </tr>\n",
       "  </tbody>\n",
       "</table>\n",
       "</div>"
      ],
      "text/plain": [
       "                                                 url        type  label\n",
       "0                                   br-icloud.com.br    phishing      3\n",
       "1                mp3raid.com/music/krizz_kaliko.html      benign      0\n",
       "2                    bopsecrets.org/rexroth/cr/1.htm      benign      0\n",
       "3  http://www.garage-pirenne.be/index.php?option=...  defacement      1\n",
       "4  http://adventure-nicaragua.net/index.php?optio...  defacement      1"
      ]
     },
     "execution_count": 7,
     "metadata": {},
     "output_type": "execute_result"
    }
   ],
   "source": [
    "labelEncoder = LabelEncoder()\n",
    "url_data['label'] = labelEncoder.fit_transform(url_data['type'])\n",
    "url_data.head()"
   ]
  },
  {
   "cell_type": "markdown",
   "metadata": {},
   "source": [
    "# Data Preprocessing\n",
    "- Top-Level-Domain\n",
    "- Length Features\n",
    "- Count Features\n",
    "- Binary Features"
   ]
  },
  {
   "cell_type": "markdown",
   "metadata": {},
   "source": [
    "## Top-Level-Domain\n",
    "##### Extract TLD"
   ]
  },
  {
   "cell_type": "code",
   "execution_count": 8,
   "metadata": {},
   "outputs": [
    {
     "data": {
      "text/html": [
       "<div>\n",
       "<style scoped>\n",
       "    .dataframe tbody tr th:only-of-type {\n",
       "        vertical-align: middle;\n",
       "    }\n",
       "\n",
       "    .dataframe tbody tr th {\n",
       "        vertical-align: top;\n",
       "    }\n",
       "\n",
       "    .dataframe thead th {\n",
       "        text-align: right;\n",
       "    }\n",
       "</style>\n",
       "<table border=\"1\" class=\"dataframe\">\n",
       "  <thead>\n",
       "    <tr style=\"text-align: right;\">\n",
       "      <th></th>\n",
       "      <th>url</th>\n",
       "      <th>type</th>\n",
       "      <th>label</th>\n",
       "      <th>tld</th>\n",
       "    </tr>\n",
       "  </thead>\n",
       "  <tbody>\n",
       "    <tr>\n",
       "      <th>0</th>\n",
       "      <td>br-icloud.com.br</td>\n",
       "      <td>phishing</td>\n",
       "      <td>3</td>\n",
       "      <td></td>\n",
       "    </tr>\n",
       "    <tr>\n",
       "      <th>1</th>\n",
       "      <td>mp3raid.com/music/krizz_kaliko.html</td>\n",
       "      <td>benign</td>\n",
       "      <td>0</td>\n",
       "      <td></td>\n",
       "    </tr>\n",
       "    <tr>\n",
       "      <th>2</th>\n",
       "      <td>bopsecrets.org/rexroth/cr/1.htm</td>\n",
       "      <td>benign</td>\n",
       "      <td>0</td>\n",
       "      <td></td>\n",
       "    </tr>\n",
       "    <tr>\n",
       "      <th>3</th>\n",
       "      <td>http://www.garage-pirenne.be/index.php?option=...</td>\n",
       "      <td>defacement</td>\n",
       "      <td>1</td>\n",
       "      <td>be</td>\n",
       "    </tr>\n",
       "    <tr>\n",
       "      <th>4</th>\n",
       "      <td>http://adventure-nicaragua.net/index.php?optio...</td>\n",
       "      <td>defacement</td>\n",
       "      <td>1</td>\n",
       "      <td>net</td>\n",
       "    </tr>\n",
       "  </tbody>\n",
       "</table>\n",
       "</div>"
      ],
      "text/plain": [
       "                                                 url        type  label  tld\n",
       "0                                   br-icloud.com.br    phishing      3     \n",
       "1                mp3raid.com/music/krizz_kaliko.html      benign      0     \n",
       "2                    bopsecrets.org/rexroth/cr/1.htm      benign      0     \n",
       "3  http://www.garage-pirenne.be/index.php?option=...  defacement      1   be\n",
       "4  http://adventure-nicaragua.net/index.php?optio...  defacement      1  net"
      ]
     },
     "execution_count": 8,
     "metadata": {},
     "output_type": "execute_result"
    }
   ],
   "source": [
    "def custom_get_tld(url: str):\n",
    "    tld = get_tld(url, fail_silently=True)\n",
    "    return tld if tld else ''\n",
    "\n",
    "url_data['tld'] = url_data['url'].apply(lambda url: custom_get_tld(url))\n",
    "url_data.head()"
   ]
  },
  {
   "cell_type": "markdown",
   "metadata": {},
   "source": [
    "##### Label Encoding TLD column"
   ]
  },
  {
   "cell_type": "code",
   "execution_count": 9,
   "metadata": {},
   "outputs": [
    {
     "data": {
      "text/html": [
       "<div>\n",
       "<style scoped>\n",
       "    .dataframe tbody tr th:only-of-type {\n",
       "        vertical-align: middle;\n",
       "    }\n",
       "\n",
       "    .dataframe tbody tr th {\n",
       "        vertical-align: top;\n",
       "    }\n",
       "\n",
       "    .dataframe thead th {\n",
       "        text-align: right;\n",
       "    }\n",
       "</style>\n",
       "<table border=\"1\" class=\"dataframe\">\n",
       "  <thead>\n",
       "    <tr style=\"text-align: right;\">\n",
       "      <th></th>\n",
       "      <th>url</th>\n",
       "      <th>type</th>\n",
       "      <th>label</th>\n",
       "      <th>tld</th>\n",
       "      <th>tld_vector</th>\n",
       "    </tr>\n",
       "  </thead>\n",
       "  <tbody>\n",
       "    <tr>\n",
       "      <th>0</th>\n",
       "      <td>br-icloud.com.br</td>\n",
       "      <td>phishing</td>\n",
       "      <td>3</td>\n",
       "      <td></td>\n",
       "      <td>0</td>\n",
       "    </tr>\n",
       "    <tr>\n",
       "      <th>1</th>\n",
       "      <td>mp3raid.com/music/krizz_kaliko.html</td>\n",
       "      <td>benign</td>\n",
       "      <td>0</td>\n",
       "      <td></td>\n",
       "      <td>0</td>\n",
       "    </tr>\n",
       "    <tr>\n",
       "      <th>2</th>\n",
       "      <td>bopsecrets.org/rexroth/cr/1.htm</td>\n",
       "      <td>benign</td>\n",
       "      <td>0</td>\n",
       "      <td></td>\n",
       "      <td>0</td>\n",
       "    </tr>\n",
       "    <tr>\n",
       "      <th>3</th>\n",
       "      <td>http://www.garage-pirenne.be/index.php?option=...</td>\n",
       "      <td>defacement</td>\n",
       "      <td>1</td>\n",
       "      <td>be</td>\n",
       "      <td>35</td>\n",
       "    </tr>\n",
       "    <tr>\n",
       "      <th>4</th>\n",
       "      <td>http://adventure-nicaragua.net/index.php?optio...</td>\n",
       "      <td>defacement</td>\n",
       "      <td>1</td>\n",
       "      <td>net</td>\n",
       "      <td>353</td>\n",
       "    </tr>\n",
       "  </tbody>\n",
       "</table>\n",
       "</div>"
      ],
      "text/plain": [
       "                                                 url        type  label  tld  \\\n",
       "0                                   br-icloud.com.br    phishing      3        \n",
       "1                mp3raid.com/music/krizz_kaliko.html      benign      0        \n",
       "2                    bopsecrets.org/rexroth/cr/1.htm      benign      0        \n",
       "3  http://www.garage-pirenne.be/index.php?option=...  defacement      1   be   \n",
       "4  http://adventure-nicaragua.net/index.php?optio...  defacement      1  net   \n",
       "\n",
       "   tld_vector  \n",
       "0           0  \n",
       "1           0  \n",
       "2           0  \n",
       "3          35  \n",
       "4         353  "
      ]
     },
     "execution_count": 9,
     "metadata": {},
     "output_type": "execute_result"
    }
   ],
   "source": [
    "tldEncoder = LabelEncoder()\n",
    "url_data['tld_vector'] = tldEncoder.fit_transform(url_data['tld'])\n",
    "url_data.head()"
   ]
  },
  {
   "cell_type": "markdown",
   "metadata": {},
   "source": [
    "## Length Features\n",
    "- Length of TLD\n",
    "- Length of URL \n",
    "- Length of HostName\n",
    "- Length of Path\n",
    "- Length of First Directory"
   ]
  },
  {
   "cell_type": "markdown",
   "metadata": {},
   "source": [
    "##### Length of Top-Level-Domain"
   ]
  },
  {
   "cell_type": "code",
   "execution_count": 10,
   "metadata": {},
   "outputs": [],
   "source": [
    "url_data['tld_len'] = url_data['tld'].apply(lambda tld: len(tld))"
   ]
  },
  {
   "cell_type": "code",
   "execution_count": 11,
   "metadata": {},
   "outputs": [],
   "source": [
    "# Dropping TLD column\n",
    "url_data.drop([\"tld\"], axis = 1, inplace=True)"
   ]
  },
  {
   "cell_type": "markdown",
   "metadata": {},
   "source": [
    "##### Length of URL"
   ]
  },
  {
   "cell_type": "code",
   "execution_count": 12,
   "metadata": {},
   "outputs": [],
   "source": [
    "url_data['url_len'] = url_data['url'].apply(lambda url: len(str(url)))"
   ]
  },
  {
   "cell_type": "markdown",
   "metadata": {},
   "source": [
    "##### Length of Hostname"
   ]
  },
  {
   "cell_type": "code",
   "execution_count": 13,
   "metadata": {},
   "outputs": [],
   "source": [
    "url_data['host_len'] = url_data['url'].apply(lambda url: len(urlparse(url).netloc))"
   ]
  },
  {
   "cell_type": "markdown",
   "metadata": {},
   "source": [
    "##### Length of Path"
   ]
  },
  {
   "cell_type": "code",
   "execution_count": 14,
   "metadata": {},
   "outputs": [],
   "source": [
    "url_data['path_len'] = url_data['url'].apply(lambda url: len(urlparse(url).path))"
   ]
  },
  {
   "cell_type": "markdown",
   "metadata": {},
   "source": [
    "##### Length of First Directory"
   ]
  },
  {
   "cell_type": "code",
   "execution_count": 15,
   "metadata": {},
   "outputs": [],
   "source": [
    "def fd_length(url):\n",
    "    urlpath= urlparse(url).path\n",
    "    try:\n",
    "        return len(urlpath.split('/')[1])\n",
    "    except:\n",
    "        return 0\n",
    "\n",
    "url_data['fd_len'] = url_data['url'].apply(lambda url: fd_length(url))"
   ]
  },
  {
   "cell_type": "code",
   "execution_count": 16,
   "metadata": {},
   "outputs": [
    {
     "data": {
      "text/html": [
       "<div>\n",
       "<style scoped>\n",
       "    .dataframe tbody tr th:only-of-type {\n",
       "        vertical-align: middle;\n",
       "    }\n",
       "\n",
       "    .dataframe tbody tr th {\n",
       "        vertical-align: top;\n",
       "    }\n",
       "\n",
       "    .dataframe thead th {\n",
       "        text-align: right;\n",
       "    }\n",
       "</style>\n",
       "<table border=\"1\" class=\"dataframe\">\n",
       "  <thead>\n",
       "    <tr style=\"text-align: right;\">\n",
       "      <th></th>\n",
       "      <th>url</th>\n",
       "      <th>type</th>\n",
       "      <th>label</th>\n",
       "      <th>tld_vector</th>\n",
       "      <th>tld_len</th>\n",
       "      <th>url_len</th>\n",
       "      <th>host_len</th>\n",
       "      <th>path_len</th>\n",
       "      <th>fd_len</th>\n",
       "    </tr>\n",
       "  </thead>\n",
       "  <tbody>\n",
       "    <tr>\n",
       "      <th>0</th>\n",
       "      <td>br-icloud.com.br</td>\n",
       "      <td>phishing</td>\n",
       "      <td>3</td>\n",
       "      <td>0</td>\n",
       "      <td>0</td>\n",
       "      <td>16</td>\n",
       "      <td>0</td>\n",
       "      <td>16</td>\n",
       "      <td>0</td>\n",
       "    </tr>\n",
       "    <tr>\n",
       "      <th>1</th>\n",
       "      <td>mp3raid.com/music/krizz_kaliko.html</td>\n",
       "      <td>benign</td>\n",
       "      <td>0</td>\n",
       "      <td>0</td>\n",
       "      <td>0</td>\n",
       "      <td>35</td>\n",
       "      <td>0</td>\n",
       "      <td>35</td>\n",
       "      <td>5</td>\n",
       "    </tr>\n",
       "    <tr>\n",
       "      <th>2</th>\n",
       "      <td>bopsecrets.org/rexroth/cr/1.htm</td>\n",
       "      <td>benign</td>\n",
       "      <td>0</td>\n",
       "      <td>0</td>\n",
       "      <td>0</td>\n",
       "      <td>31</td>\n",
       "      <td>0</td>\n",
       "      <td>31</td>\n",
       "      <td>7</td>\n",
       "    </tr>\n",
       "    <tr>\n",
       "      <th>3</th>\n",
       "      <td>http://www.garage-pirenne.be/index.php?option=...</td>\n",
       "      <td>defacement</td>\n",
       "      <td>1</td>\n",
       "      <td>35</td>\n",
       "      <td>2</td>\n",
       "      <td>88</td>\n",
       "      <td>21</td>\n",
       "      <td>10</td>\n",
       "      <td>9</td>\n",
       "    </tr>\n",
       "    <tr>\n",
       "      <th>4</th>\n",
       "      <td>http://adventure-nicaragua.net/index.php?optio...</td>\n",
       "      <td>defacement</td>\n",
       "      <td>1</td>\n",
       "      <td>353</td>\n",
       "      <td>3</td>\n",
       "      <td>235</td>\n",
       "      <td>23</td>\n",
       "      <td>10</td>\n",
       "      <td>9</td>\n",
       "    </tr>\n",
       "  </tbody>\n",
       "</table>\n",
       "</div>"
      ],
      "text/plain": [
       "                                                 url        type  label  \\\n",
       "0                                   br-icloud.com.br    phishing      3   \n",
       "1                mp3raid.com/music/krizz_kaliko.html      benign      0   \n",
       "2                    bopsecrets.org/rexroth/cr/1.htm      benign      0   \n",
       "3  http://www.garage-pirenne.be/index.php?option=...  defacement      1   \n",
       "4  http://adventure-nicaragua.net/index.php?optio...  defacement      1   \n",
       "\n",
       "   tld_vector  tld_len  url_len  host_len  path_len  fd_len  \n",
       "0           0        0       16         0        16       0  \n",
       "1           0        0       35         0        35       5  \n",
       "2           0        0       31         0        31       7  \n",
       "3          35        2       88        21        10       9  \n",
       "4         353        3      235        23        10       9  "
      ]
     },
     "execution_count": 16,
     "metadata": {},
     "output_type": "execute_result"
    }
   ],
   "source": [
    "url_data.head()"
   ]
  },
  {
   "cell_type": "markdown",
   "metadata": {},
   "source": [
    "## Count Features\n",
    "- Count of 'www'\n",
    "- Count of 'https'\n",
    "- Number of directories\n",
    "- Count of Digits\n",
    "- count of Letters\n",
    "- Count of Special Characters ('$&+_:=?@-.!<>#%^~')\n"
   ]
  },
  {
   "cell_type": "markdown",
   "metadata": {},
   "source": [
    "##### Count 'www' &amp; 'https'"
   ]
  },
  {
   "cell_type": "code",
   "execution_count": 17,
   "metadata": {},
   "outputs": [],
   "source": [
    "url_data['www_count'] = url_data['url'].apply(lambda url: url.count('www'))\n",
    "url_data['http_count'] = url_data['url'].apply(lambda url: url.count('http'))"
   ]
  },
  {
   "cell_type": "markdown",
   "metadata": {},
   "source": [
    "##### Number of Directories"
   ]
  },
  {
   "cell_type": "code",
   "execution_count": 15,
   "metadata": {},
   "outputs": [],
   "source": [
    "def count_dir(url):\n",
    "    return urlparse(url).path.count('/')\n",
    "\n",
    "url_data['dir_count']= url_data['url'].apply(lambda url: count_dir(url))"
   ]
  },
  {
   "cell_type": "markdown",
   "metadata": {},
   "source": [
    "##### Count Letters"
   ]
  },
  {
   "cell_type": "code",
   "execution_count": 16,
   "metadata": {},
   "outputs": [],
   "source": [
    "def countLetters(url: str):\n",
    "    c = 0\n",
    "    for i in url:\n",
    "        if i.isalpha(): c=c+1\n",
    "    return c\n",
    "\n",
    "url_data['letters_count'] = url_data['url'].apply(lambda url: countLetters(url))"
   ]
  },
  {
   "cell_type": "markdown",
   "metadata": {},
   "source": [
    "##### Count Digits"
   ]
  },
  {
   "cell_type": "code",
   "execution_count": 17,
   "metadata": {},
   "outputs": [],
   "source": [
    "def countDigits(url: str):\n",
    "    c = 0\n",
    "    for i in url:\n",
    "        if i.isnumeric(): c=c+1\n",
    "    return c\n",
    "\n",
    "url_data['digits_count'] = url_data['url'].apply(lambda url: countDigits(url))"
   ]
  },
  {
   "cell_type": "markdown",
   "metadata": {},
   "source": [
    "##### Count Special Characters ($&+_:=?@-.!<>#%^~)"
   ]
  },
  {
   "cell_type": "code",
   "execution_count": 18,
   "metadata": {},
   "outputs": [],
   "source": [
    "def countSpclChars(url: str, charset: str):\n",
    "    c = 0\n",
    "    for i in url:\n",
    "        if i in charset: c = c+1\n",
    "    return c\n",
    "\n",
    "url_data['spec_chars_count'] = url_data['url'].apply(lambda url: countSpclChars(url, '$&+_:=?@-.!<>#%^~'))"
   ]
  },
  {
   "cell_type": "markdown",
   "metadata": {},
   "source": [
    "##### Count Specific Special Characters('&.?-') each in the url"
   ]
  },
  {
   "cell_type": "code",
   "execution_count": 19,
   "metadata": {},
   "outputs": [],
   "source": [
    "url_data['count&'] = url_data['url'].apply(lambda url: url.count('&'))\n",
    "url_data['count.'] = url_data['url'].apply(lambda url: url.count('.'))\n",
    "url_data['count?'] = url_data['url'].apply(lambda url: url.count('?'))\n",
    "url_data['count-'] = url_data['url'].apply(lambda url: url.count('-'))"
   ]
  },
  {
   "cell_type": "code",
   "execution_count": 20,
   "metadata": {},
   "outputs": [
    {
     "data": {
      "text/html": [
       "<div>\n",
       "<style scoped>\n",
       "    .dataframe tbody tr th:only-of-type {\n",
       "        vertical-align: middle;\n",
       "    }\n",
       "\n",
       "    .dataframe tbody tr th {\n",
       "        vertical-align: top;\n",
       "    }\n",
       "\n",
       "    .dataframe thead th {\n",
       "        text-align: right;\n",
       "    }\n",
       "</style>\n",
       "<table border=\"1\" class=\"dataframe\">\n",
       "  <thead>\n",
       "    <tr style=\"text-align: right;\">\n",
       "      <th></th>\n",
       "      <th>url</th>\n",
       "      <th>type</th>\n",
       "      <th>label</th>\n",
       "      <th>tld_vector</th>\n",
       "      <th>tld_len</th>\n",
       "      <th>url_len</th>\n",
       "      <th>host_len</th>\n",
       "      <th>path_len</th>\n",
       "      <th>fd_len</th>\n",
       "      <th>www_count</th>\n",
       "      <th>http_count</th>\n",
       "      <th>dir_count</th>\n",
       "      <th>letters_count</th>\n",
       "      <th>digits_count</th>\n",
       "      <th>spec_chars_count</th>\n",
       "      <th>count&amp;</th>\n",
       "      <th>count.</th>\n",
       "      <th>count?</th>\n",
       "      <th>count-</th>\n",
       "    </tr>\n",
       "  </thead>\n",
       "  <tbody>\n",
       "    <tr>\n",
       "      <th>0</th>\n",
       "      <td>br-icloud.com.br</td>\n",
       "      <td>phishing</td>\n",
       "      <td>3</td>\n",
       "      <td>0</td>\n",
       "      <td>0</td>\n",
       "      <td>16</td>\n",
       "      <td>0</td>\n",
       "      <td>16</td>\n",
       "      <td>0</td>\n",
       "      <td>0</td>\n",
       "      <td>0</td>\n",
       "      <td>0</td>\n",
       "      <td>13</td>\n",
       "      <td>0</td>\n",
       "      <td>3</td>\n",
       "      <td>0</td>\n",
       "      <td>2</td>\n",
       "      <td>0</td>\n",
       "      <td>1</td>\n",
       "    </tr>\n",
       "    <tr>\n",
       "      <th>1</th>\n",
       "      <td>mp3raid.com/music/krizz_kaliko.html</td>\n",
       "      <td>benign</td>\n",
       "      <td>0</td>\n",
       "      <td>0</td>\n",
       "      <td>0</td>\n",
       "      <td>35</td>\n",
       "      <td>0</td>\n",
       "      <td>35</td>\n",
       "      <td>5</td>\n",
       "      <td>0</td>\n",
       "      <td>0</td>\n",
       "      <td>2</td>\n",
       "      <td>29</td>\n",
       "      <td>1</td>\n",
       "      <td>3</td>\n",
       "      <td>0</td>\n",
       "      <td>2</td>\n",
       "      <td>0</td>\n",
       "      <td>0</td>\n",
       "    </tr>\n",
       "    <tr>\n",
       "      <th>2</th>\n",
       "      <td>bopsecrets.org/rexroth/cr/1.htm</td>\n",
       "      <td>benign</td>\n",
       "      <td>0</td>\n",
       "      <td>0</td>\n",
       "      <td>0</td>\n",
       "      <td>31</td>\n",
       "      <td>0</td>\n",
       "      <td>31</td>\n",
       "      <td>7</td>\n",
       "      <td>0</td>\n",
       "      <td>0</td>\n",
       "      <td>3</td>\n",
       "      <td>25</td>\n",
       "      <td>1</td>\n",
       "      <td>2</td>\n",
       "      <td>0</td>\n",
       "      <td>2</td>\n",
       "      <td>0</td>\n",
       "      <td>0</td>\n",
       "    </tr>\n",
       "    <tr>\n",
       "      <th>3</th>\n",
       "      <td>http://www.garage-pirenne.be/index.php?option=...</td>\n",
       "      <td>defacement</td>\n",
       "      <td>1</td>\n",
       "      <td>35</td>\n",
       "      <td>2</td>\n",
       "      <td>88</td>\n",
       "      <td>21</td>\n",
       "      <td>10</td>\n",
       "      <td>9</td>\n",
       "      <td>1</td>\n",
       "      <td>1</td>\n",
       "      <td>1</td>\n",
       "      <td>63</td>\n",
       "      <td>7</td>\n",
       "      <td>15</td>\n",
       "      <td>3</td>\n",
       "      <td>3</td>\n",
       "      <td>1</td>\n",
       "      <td>1</td>\n",
       "    </tr>\n",
       "    <tr>\n",
       "      <th>4</th>\n",
       "      <td>http://adventure-nicaragua.net/index.php?optio...</td>\n",
       "      <td>defacement</td>\n",
       "      <td>1</td>\n",
       "      <td>353</td>\n",
       "      <td>3</td>\n",
       "      <td>235</td>\n",
       "      <td>23</td>\n",
       "      <td>10</td>\n",
       "      <td>9</td>\n",
       "      <td>0</td>\n",
       "      <td>1</td>\n",
       "      <td>1</td>\n",
       "      <td>199</td>\n",
       "      <td>22</td>\n",
       "      <td>11</td>\n",
       "      <td>2</td>\n",
       "      <td>2</td>\n",
       "      <td>1</td>\n",
       "      <td>1</td>\n",
       "    </tr>\n",
       "  </tbody>\n",
       "</table>\n",
       "</div>"
      ],
      "text/plain": [
       "                                                 url        type  label  \\\n",
       "0                                   br-icloud.com.br    phishing      3   \n",
       "1                mp3raid.com/music/krizz_kaliko.html      benign      0   \n",
       "2                    bopsecrets.org/rexroth/cr/1.htm      benign      0   \n",
       "3  http://www.garage-pirenne.be/index.php?option=...  defacement      1   \n",
       "4  http://adventure-nicaragua.net/index.php?optio...  defacement      1   \n",
       "\n",
       "   tld_vector  tld_len  url_len  host_len  path_len  fd_len  www_count  \\\n",
       "0           0        0       16         0        16       0          0   \n",
       "1           0        0       35         0        35       5          0   \n",
       "2           0        0       31         0        31       7          0   \n",
       "3          35        2       88        21        10       9          1   \n",
       "4         353        3      235        23        10       9          0   \n",
       "\n",
       "   http_count  dir_count  letters_count  digits_count  spec_chars_count  \\\n",
       "0           0          0             13             0                 3   \n",
       "1           0          2             29             1                 3   \n",
       "2           0          3             25             1                 2   \n",
       "3           1          1             63             7                15   \n",
       "4           1          1            199            22                11   \n",
       "\n",
       "   count&  count.  count?  count-  \n",
       "0       0       2       0       1  \n",
       "1       0       2       0       0  \n",
       "2       0       2       0       0  \n",
       "3       3       3       1       1  \n",
       "4       2       2       1       1  "
      ]
     },
     "execution_count": 20,
     "metadata": {},
     "output_type": "execute_result"
    }
   ],
   "source": [
    "url_data.head()"
   ]
  },
  {
   "cell_type": "markdown",
   "metadata": {},
   "source": [
    "## Binary Features\n",
    "- url domain is ip address or not"
   ]
  },
  {
   "cell_type": "code",
   "execution_count": 21,
   "metadata": {},
   "outputs": [],
   "source": [
    "def isIP(url: str):\n",
    "    match = re.match('^((25[0-5]|(2[0-4]|1\\d|[1-9]|)\\d)(\\.(?!$)|$)){4}$', url)\n",
    "    return 1 if match else 0\n",
    "\n",
    "url_data['is_ip'] = url_data['url'].apply(lambda url: isIP(str(urlparse(url).hostname)))"
   ]
  },
  {
   "cell_type": "code",
   "execution_count": 22,
   "metadata": {},
   "outputs": [
    {
     "data": {
      "text/html": [
       "<div>\n",
       "<style scoped>\n",
       "    .dataframe tbody tr th:only-of-type {\n",
       "        vertical-align: middle;\n",
       "    }\n",
       "\n",
       "    .dataframe tbody tr th {\n",
       "        vertical-align: top;\n",
       "    }\n",
       "\n",
       "    .dataframe thead th {\n",
       "        text-align: right;\n",
       "    }\n",
       "</style>\n",
       "<table border=\"1\" class=\"dataframe\">\n",
       "  <thead>\n",
       "    <tr style=\"text-align: right;\">\n",
       "      <th></th>\n",
       "      <th>url</th>\n",
       "      <th>type</th>\n",
       "      <th>label</th>\n",
       "      <th>tld_vector</th>\n",
       "      <th>tld_len</th>\n",
       "      <th>url_len</th>\n",
       "      <th>host_len</th>\n",
       "      <th>path_len</th>\n",
       "      <th>fd_len</th>\n",
       "      <th>www_count</th>\n",
       "      <th>http_count</th>\n",
       "      <th>dir_count</th>\n",
       "      <th>letters_count</th>\n",
       "      <th>digits_count</th>\n",
       "      <th>spec_chars_count</th>\n",
       "      <th>count&amp;</th>\n",
       "      <th>count.</th>\n",
       "      <th>count?</th>\n",
       "      <th>count-</th>\n",
       "      <th>is_ip</th>\n",
       "    </tr>\n",
       "  </thead>\n",
       "  <tbody>\n",
       "    <tr>\n",
       "      <th>0</th>\n",
       "      <td>br-icloud.com.br</td>\n",
       "      <td>phishing</td>\n",
       "      <td>3</td>\n",
       "      <td>0</td>\n",
       "      <td>0</td>\n",
       "      <td>16</td>\n",
       "      <td>0</td>\n",
       "      <td>16</td>\n",
       "      <td>0</td>\n",
       "      <td>0</td>\n",
       "      <td>0</td>\n",
       "      <td>0</td>\n",
       "      <td>13</td>\n",
       "      <td>0</td>\n",
       "      <td>3</td>\n",
       "      <td>0</td>\n",
       "      <td>2</td>\n",
       "      <td>0</td>\n",
       "      <td>1</td>\n",
       "      <td>0</td>\n",
       "    </tr>\n",
       "    <tr>\n",
       "      <th>1</th>\n",
       "      <td>mp3raid.com/music/krizz_kaliko.html</td>\n",
       "      <td>benign</td>\n",
       "      <td>0</td>\n",
       "      <td>0</td>\n",
       "      <td>0</td>\n",
       "      <td>35</td>\n",
       "      <td>0</td>\n",
       "      <td>35</td>\n",
       "      <td>5</td>\n",
       "      <td>0</td>\n",
       "      <td>0</td>\n",
       "      <td>2</td>\n",
       "      <td>29</td>\n",
       "      <td>1</td>\n",
       "      <td>3</td>\n",
       "      <td>0</td>\n",
       "      <td>2</td>\n",
       "      <td>0</td>\n",
       "      <td>0</td>\n",
       "      <td>0</td>\n",
       "    </tr>\n",
       "    <tr>\n",
       "      <th>2</th>\n",
       "      <td>bopsecrets.org/rexroth/cr/1.htm</td>\n",
       "      <td>benign</td>\n",
       "      <td>0</td>\n",
       "      <td>0</td>\n",
       "      <td>0</td>\n",
       "      <td>31</td>\n",
       "      <td>0</td>\n",
       "      <td>31</td>\n",
       "      <td>7</td>\n",
       "      <td>0</td>\n",
       "      <td>0</td>\n",
       "      <td>3</td>\n",
       "      <td>25</td>\n",
       "      <td>1</td>\n",
       "      <td>2</td>\n",
       "      <td>0</td>\n",
       "      <td>2</td>\n",
       "      <td>0</td>\n",
       "      <td>0</td>\n",
       "      <td>0</td>\n",
       "    </tr>\n",
       "    <tr>\n",
       "      <th>3</th>\n",
       "      <td>http://www.garage-pirenne.be/index.php?option=...</td>\n",
       "      <td>defacement</td>\n",
       "      <td>1</td>\n",
       "      <td>35</td>\n",
       "      <td>2</td>\n",
       "      <td>88</td>\n",
       "      <td>21</td>\n",
       "      <td>10</td>\n",
       "      <td>9</td>\n",
       "      <td>1</td>\n",
       "      <td>1</td>\n",
       "      <td>1</td>\n",
       "      <td>63</td>\n",
       "      <td>7</td>\n",
       "      <td>15</td>\n",
       "      <td>3</td>\n",
       "      <td>3</td>\n",
       "      <td>1</td>\n",
       "      <td>1</td>\n",
       "      <td>0</td>\n",
       "    </tr>\n",
       "    <tr>\n",
       "      <th>4</th>\n",
       "      <td>http://adventure-nicaragua.net/index.php?optio...</td>\n",
       "      <td>defacement</td>\n",
       "      <td>1</td>\n",
       "      <td>353</td>\n",
       "      <td>3</td>\n",
       "      <td>235</td>\n",
       "      <td>23</td>\n",
       "      <td>10</td>\n",
       "      <td>9</td>\n",
       "      <td>0</td>\n",
       "      <td>1</td>\n",
       "      <td>1</td>\n",
       "      <td>199</td>\n",
       "      <td>22</td>\n",
       "      <td>11</td>\n",
       "      <td>2</td>\n",
       "      <td>2</td>\n",
       "      <td>1</td>\n",
       "      <td>1</td>\n",
       "      <td>0</td>\n",
       "    </tr>\n",
       "  </tbody>\n",
       "</table>\n",
       "</div>"
      ],
      "text/plain": [
       "                                                 url        type  label  \\\n",
       "0                                   br-icloud.com.br    phishing      3   \n",
       "1                mp3raid.com/music/krizz_kaliko.html      benign      0   \n",
       "2                    bopsecrets.org/rexroth/cr/1.htm      benign      0   \n",
       "3  http://www.garage-pirenne.be/index.php?option=...  defacement      1   \n",
       "4  http://adventure-nicaragua.net/index.php?optio...  defacement      1   \n",
       "\n",
       "   tld_vector  tld_len  url_len  host_len  path_len  fd_len  www_count  \\\n",
       "0           0        0       16         0        16       0          0   \n",
       "1           0        0       35         0        35       5          0   \n",
       "2           0        0       31         0        31       7          0   \n",
       "3          35        2       88        21        10       9          1   \n",
       "4         353        3      235        23        10       9          0   \n",
       "\n",
       "   http_count  dir_count  letters_count  digits_count  spec_chars_count  \\\n",
       "0           0          0             13             0                 3   \n",
       "1           0          2             29             1                 3   \n",
       "2           0          3             25             1                 2   \n",
       "3           1          1             63             7                15   \n",
       "4           1          1            199            22                11   \n",
       "\n",
       "   count&  count.  count?  count-  is_ip  \n",
       "0       0       2       0       1      0  \n",
       "1       0       2       0       0      0  \n",
       "2       0       2       0       0      0  \n",
       "3       3       3       1       1      0  \n",
       "4       2       2       1       1      0  "
      ]
     },
     "execution_count": 22,
     "metadata": {},
     "output_type": "execute_result"
    }
   ],
   "source": [
    "url_data.head(5)"
   ]
  },
  {
   "cell_type": "markdown",
   "metadata": {},
   "source": [
    "# Data Visualization\n",
    "\n",
    "##### Bar chart: Type of URLs vs Number of URLs"
   ]
  },
  {
   "cell_type": "code",
   "execution_count": 19,
   "metadata": {},
   "outputs": [
    {
     "data": {
      "text/plain": [
       "[]"
      ]
     },
     "execution_count": 19,
     "metadata": {},
     "output_type": "execute_result"
    },
    {
     "data": {
      "image/png": "[encoded data removed]",
      "text/plain": [
       "<Figure size 432x288 with 1 Axes>"
      ]
     },
     "metadata": {
      "needs_background": "light"
     },
     "output_type": "display_data"
    }
   ],
   "source": [
    "red_color = '#ff0000'\n",
    "orange_color = '#ff7300'\n",
    "green_color = '#52d726'\n",
    "blue_color = '#007ed6'\n",
    "color_list = [orange_color, green_color, blue_color, red_color]\n",
    "\n",
    "sns.countplot(x='type', data=url_data, palette=color_list)\n",
    "plt.xlabel('Type of Urls')\n",
    "plt.ylabel('Number of Urls')\n",
    "plt.plot()"
   ]
  },
  {
   "cell_type": "markdown",
   "metadata": {},
   "source": [
    "##### Pie chart: Type of URLs"
   ]
  },
  {
   "cell_type": "code",
   "execution_count": 24,
   "metadata": {},
   "outputs": [
    {
     "data": {
      "text/plain": [
       "[]"
      ]
     },
     "execution_count": 24,
     "metadata": {},
     "output_type": "execute_result"
    },
    {
     "data": {
      "image/png": "[encoded data removed]",
      "text/plain": [
       "<Figure size 504x504 with 1 Axes>"
      ]
     },
     "metadata": {},
     "output_type": "display_data"
    }
   ],
   "source": [
    "type_list = url_data['type'].unique()\n",
    "num_of_type = [len(url_data[url_data['type'] == type]) for type in type_list]\n",
    "\n",
    "plt.figure(figsize=(7,7), facecolor='#ffffff')\n",
    "plt.pie(num_of_type, labels=type_list, colors=color_list, autopct='%0.2f%%', explode=(0.07, 0, 0.07, 0.07))\n",
    "plt.title('Type of URLs', fontdict={'color': '#000000', 'size': 24})\n",
    "plt.plot()"
   ]
  },
  {
   "cell_type": "markdown",
   "metadata": {},
   "source": [
    "##### URL length vs Number of URL histogram"
   ]
  },
  {
   "cell_type": "code",
   "execution_count": 25,
   "metadata": {},
   "outputs": [
    {
     "data": {
      "text/plain": [
       "[]"
      ]
     },
     "execution_count": 25,
     "metadata": {},
     "output_type": "execute_result"
    },
    {
     "data": {
      "image/png": "[encoded data removed]",
      "text/plain": [
       "<Figure size 720x504 with 1 Axes>"
      ]
     },
     "metadata": {
      "needs_background": "light"
     },
     "output_type": "display_data"
    }
   ],
   "source": [
    "plt.figure(figsize=(10,7))\n",
    "plt.hist(url_data['url_len'], color=blue_color, bins=100)\n",
    "\n",
    "plt.title('url_len vs count')\n",
    "plt.xlabel('url length')\n",
    "plt.ylabel('count (logarithmic scale)')\n",
    "plt.yscale('log')\n",
    "plt.plot()"
   ]
  },
  {
   "cell_type": "markdown",
   "metadata": {},
   "source": [
    "##### Http-count vs Number of URL histogram"
   ]
  },
  {
   "cell_type": "code",
   "execution_count": 26,
   "metadata": {},
   "outputs": [
    {
     "data": {
      "text/plain": [
       "[]"
      ]
     },
     "execution_count": 26,
     "metadata": {},
     "output_type": "execute_result"
    },
    {
     "data": {
      "image/png": "[encoded data removed]",
      "text/plain": [
       "<Figure size 720x504 with 1 Axes>"
      ]
     },
     "metadata": {
      "needs_background": "light"
     },
     "output_type": "display_data"
    }
   ],
   "source": [
    "plt.figure(figsize=(10,7))\n",
    "sns.countplot(x='http_count', data=url_data, palette=color_list)\n",
    "plt.xlabel('http count')\n",
    "plt.ylabel('Number of Urls')\n",
    "plt.plot()"
   ]
  },
  {
   "cell_type": "markdown",
   "metadata": {},
   "source": [
    "##### Directory-count vs Number of URL histogram"
   ]
  },
  {
   "cell_type": "code",
   "execution_count": 26,
   "metadata": {},
   "outputs": [
    {
     "data": {
      "text/plain": [
       "[]"
      ]
     },
     "execution_count": 26,
     "metadata": {},
     "output_type": "execute_result"
    },
    {
     "data": {
      "image/png": "[encoded data removed]",
      "text/plain": [
       "<Figure size 720x360 with 1 Axes>"
      ]
     },
     "metadata": {
      "needs_background": "light"
     },
     "output_type": "display_data"
    }
   ],
   "source": [
    "plt.figure(figsize=(10,5))\n",
    "plt.hist(url_data['dir_count'], color=green_color, bins=50)\n",
    "\n",
    "plt.title('dir_count vs count')\n",
    "plt.xlabel('directory count')\n",
    "plt.ylabel('count')\n",
    "plt.yscale('log')\n",
    "plt.plot()"
   ]
  },
  {
   "cell_type": "markdown",
   "metadata": {},
   "source": [
    "##### IP or not vs Number of URLs"
   ]
  },
  {
   "cell_type": "code",
   "execution_count": 27,
   "metadata": {},
   "outputs": [
    {
     "data": {
      "text/plain": [
       "[]"
      ]
     },
     "execution_count": 27,
     "metadata": {},
     "output_type": "execute_result"
    },
    {
     "data": {
      "image/png": "[encoded data removed]",
      "text/plain": [
       "<Figure size 720x360 with 1 Axes>"
      ]
     },
     "metadata": {
      "needs_background": "light"
     },
     "output_type": "display_data"
    }
   ],
   "source": [
    "plt.figure(figsize=(10,5))\n",
    "sns.countplot(x = 'is_ip', data=url_data, hue='type')\n",
    "\n",
    "plt.title('is_ip vs count')\n",
    "plt.xlabel('url_is_ip')\n",
    "plt.ylabel('count')\n",
    "plt.yscale('log')\n",
    "plt.plot()"
   ]
  },
  {
   "cell_type": "markdown",
   "metadata": {},
   "source": [
    "## Heat map of correlation matrix"
   ]
  },
  {
   "cell_type": "code",
   "execution_count": 28,
   "metadata": {},
   "outputs": [
    {
     "data": {
      "image/png": "[encoded data removed]",
      "text/plain": [
       "<Figure size 1440x1440 with 2 Axes>"
      ]
     },
     "metadata": {
      "needs_background": "light"
     },
     "output_type": "display_data"
    }
   ],
   "source": [
    "corr_matrix = url_data.corr()\n",
    "plt.figure(figsize=(20,20))\n",
    "sns.heatmap(corr_matrix, square=True, annot=True, annot_kws={'size': 9})\n",
    "plt.show()"
   ]
  },
  {
   "cell_type": "markdown",
   "metadata": {},
   "source": [
    "### Mutual Information of Features vs Label\n",
    "\n",
    "##### Calculating Mutual Information"
   ]
  },
  {
   "cell_type": "code",
   "execution_count": 29,
   "metadata": {},
   "outputs": [],
   "source": [
    "from sklearn.feature_selection import mutual_info_classif\n",
    "mutual_info = mutual_info_classif(url_data.iloc[:, 3:], url_data['label'])\n",
    "mutual_info"
   ]
  },
  {
   "cell_type": "code",
   "execution_count": null,
   "metadata": {},
   "outputs": [
    {
     "name": "stdout",
     "output_type": "stream",
     "text": [
      "host_len            0.392921\n",
      "tld_vector          0.367340\n",
      "http_count          0.327500\n",
      "tld_len             0.310882\n",
      "path_len            0.225723\n",
      "www_count           0.180750\n",
      "fd_len              0.175872\n",
      "count.              0.150466\n",
      "spec_chars_count    0.133266\n",
      "dir_count           0.114061\n",
      "letters_count       0.110772\n",
      "url_len             0.106952\n",
      "count&              0.102485\n",
      "digits_count        0.083411\n",
      "count?              0.064494\n",
      "is_ip               0.056985\n",
      "count-              0.034541\n",
      "dtype: float64\n"
     ]
    }
   ],
   "source": [
    "mutual_info = pd.Series(mutual_info)\n",
    "mutual_info.index = url_data.iloc[:, 3:].columns\n",
    "mutual_info = mutual_info.sort_values(ascending = False)\n",
    "print(mutual_info)"
   ]
  },
  {
   "cell_type": "markdown",
   "metadata": {},
   "source": [
    "##### Mutual Information Bar Chart"
   ]
  },
  {
   "cell_type": "code",
   "execution_count": null,
   "metadata": {},
   "outputs": [
    {
     "data": {
      "image/png": "[encoded data removed]",
      "text/plain": [
       "<Figure size 1080x504 with 1 Axes>"
      ]
     },
     "metadata": {
      "needs_background": "light"
     },
     "output_type": "display_data"
    }
   ],
   "source": [
    "plt.figure(figsize=(15,7))\n",
    "mutual_info.plot.bar()\n",
    "plt.title(\"Mutual Information Bar Chart\")\n",
    "plt.xticks(rotation = 70)\n",
    "plt.show()"
   ]
  },
  {
   "cell_type": "markdown",
   "metadata": {},
   "source": [
    "# Machine Learning Models: Training Testing"
   ]
  },
  {
   "cell_type": "code",
   "execution_count": null,
   "metadata": {},
   "outputs": [],
   "source": [
    "\n",
    "from sklearn.model_selection import train_test_split\n",
    "from sklearn.preprocessing import MinMaxScaler\n",
    "from sklearn.preprocessing import StandardScaler\n",
    "from sklearn.metrics import accuracy_score, precision_score, recall_score, confusion_matrix, mean_squared_error\n",
    "\n",
    "from sklearn.neighbors import KNeighborsClassifier\n",
    "from sklearn.linear_model import LogisticRegression\n",
    "from sklearn.naive_bayes import GaussianNB\n",
    "from sklearn.tree import DecisionTreeClassifier\n",
    "from sklearn.ensemble import RandomForestClassifier\n",
    "\n",
    "#965023"
   ]
  },
  {
   "cell_type": "markdown",
   "metadata": {},
   "source": [
    "##### Train-Test Splitting the data"
   ]
  },
  {
   "cell_type": "code",
   "execution_count": null,
   "metadata": {},
   "outputs": [],
   "source": [
    "X = url_data.iloc[:, 3:]\n",
    "y = url_data['label']\n",
    "\n",
    "X_train, X_test, y_train, y_test = train_test_split(X, y, train_size=0.7, random_state=42)"
   ]
  },
  {
   "cell_type": "markdown",
   "metadata": {},
   "source": [
    "##### Feature Scaling\n",
    "- Standardization \n",
    "- Normalization"
   ]
  },
  {
   "cell_type": "code",
   "execution_count": null,
   "metadata": {},
   "outputs": [],
   "source": [
    "sc = StandardScaler()\n",
    "X_train_std = sc.fit_transform(X_train)\n",
    "X_test_std = sc.transform(X_test)\n",
    "\n",
    "mm = MinMaxScaler()\n",
    "X_train_nml = mm.fit_transform(X_train)\n",
    "X_test_nml = mm.transform(X_test)"
   ]
  },
  {
   "cell_type": "markdown",
   "metadata": {},
   "source": [
    "### LogisticRegression"
   ]
  },
  {
   "cell_type": "code",
   "execution_count": null,
   "metadata": {},
   "outputs": [
    {
     "name": "stdout",
     "output_type": "stream",
     "text": [
      "-> fit start\n",
      "-> fit complete\n",
      "-> prediction start\n",
      "-> prediction complete\n",
      "Accuracy score with LogisticRegression: 0.8528701153779216\n",
      "Precision score with LogisticRegression: 0.8395767216471466\n",
      "Recall score with LogisticRegression: 0.8528701153779216\n",
      "F1 score with LogisticRegression: 0.846171211756902\n",
      "\n",
      "confusion Matrix: \n",
      "[[124793   1336    171   2433]\n",
      " [  1327  25820    323   1222]\n",
      " [   822   1524   4906   2447]\n",
      " [ 13272   3433    433  11096]]\n",
      "RMS Error: 0.9364774083897649\n"
     ]
    }
   ],
   "source": [
    "lr = LogisticRegression(max_iter=1000)\n",
    "\n",
    "print(\"-> fit start\")\n",
    "lr.fit(X_train_nml, y_train)\n",
    "print(\"-> fit complete\")\n",
    "\n",
    "print(\"-> prediction start\")\n",
    "y_pred = lr.predict(X_test_nml)\n",
    "print(\"-> prediction complete\")\n",
    "\n",
    "lr_accuracy_score = accuracy_score(y_test, y_pred)\n",
    "lr_precision_score = precision_score(y_test, y_pred, average='weighted')\n",
    "lr_recall_score = recall_score(y_test, y_pred, average='weighted')\n",
    "lr_f1_score = 2 * (lr_precision_score * lr_recall_score) / (lr_precision_score + lr_recall_score)\n",
    "\n",
    "lr_rms_error = np.sqrt(mean_squared_error(y_test, y_pred))\n",
    "\n",
    "print(\"\\nAccuracy score with LogisticRegression:\", lr_accuracy_score)\n",
    "print(\"Precision score with LogisticRegression:\", lr_precision_score)\n",
    "print(\"Recall score with LogisticRegression:\", lr_recall_score)\n",
    "print(\"F1 score with LogisticRegression:\", lr_f1_score)\n",
    "print(\"\\nconfusion Matrix: \", confusion_matrix(y_test, y_pred), sep=\"\\n\")\n",
    "print(\"RMS Error:\", lr_rms_error)"
   ]
  },
  {
   "cell_type": "markdown",
   "metadata": {},
   "source": [
    "### KNeighborsClassifier"
   ]
  },
  {
   "cell_type": "code",
   "execution_count": null,
   "metadata": {},
   "outputs": [
    {
     "name": "stdout",
     "output_type": "stream",
     "text": [
      "-> fit start\n",
      "-> fit complete\n",
      "-> prediction start\n",
      "-> prediction complete\n",
      "\n",
      "Accuracy score with KNeighborsClassifier: 0.9510744376989937\n",
      "Precision score with KNeighborsClassifier: 0.950802268176922\n",
      "Recall score with KNeighborsClassifier: 0.9510744376989937\n",
      "F1 score with KNeighborsClassifier: 0.950938333463444\n",
      "\n",
      "confusion Matrix: \n",
      "[[124932     39     75   3687]\n",
      " [    36  28307     50    299]\n",
      " [    55     71   9176    397]\n",
      " [  3546    741    562  23385]]\n",
      "RMS Error: 0.6025672204767119\n"
     ]
    }
   ],
   "source": [
    "knn = KNeighborsClassifier( n_neighbors=1, n_jobs=-1, weights='distance')\n",
    "\n",
    "print(\"-> fit start\")\n",
    "knn.fit(X_train_nml, y_train)\n",
    "print(\"-> fit complete\")\n",
    "\n",
    "print(\"-> prediction start\")\n",
    "y_pred= knn.predict(X_test_nml)\n",
    "print(\"-> prediction complete\")\n",
    "\n",
    "knn_accuracy_score = accuracy_score(y_test, y_pred)\n",
    "knn_precision_score = precision_score(y_test, y_pred, average='weighted')\n",
    "knn_recall_score = recall_score(y_test, y_pred, average='weighted')\n",
    "knn_f1_score = 2 * (knn_precision_score * knn_recall_score) / (knn_precision_score + knn_recall_score)\n",
    "\n",
    "knn_rms_error = np.sqrt(mean_squared_error(y_test, y_pred))\n",
    "\n",
    "print(\"\\nAccuracy score with KNeighborsClassifier:\", knn_accuracy_score)\n",
    "print(\"Precision score with KNeighborsClassifier:\", knn_precision_score)\n",
    "print(\"Recall score with KNeighborsClassifier:\", knn_recall_score)\n",
    "print(\"F1 score with KNeighborsClassifier:\", knn_f1_score)\n",
    "print(\"\\nconfusion Matrix: \", confusion_matrix(y_test, y_pred), sep=\"\\n\")\n",
    "print(\"RMS Error:\", knn_rms_error)"
   ]
  },
  {
   "cell_type": "markdown",
   "metadata": {},
   "source": [
    "### GaussianNB"
   ]
  },
  {
   "cell_type": "code",
   "execution_count": null,
   "metadata": {},
   "outputs": [
    {
     "name": "stdout",
     "output_type": "stream",
     "text": [
      "-> fit start\n",
      "-> fit complete\n",
      "-> prediction start\n",
      "-> prediction complete\n",
      "\n",
      "Accuracy score with GaussianNB: 0.786320498776605\n",
      "Precision score with GaussianNB: 0.7609214095643261\n",
      "Recall score with GaussianNB: 0.786320498776605\n",
      "F1 score with GaussianNB: 0.7734124820080535\n",
      "\n",
      "confusion Matrix: \n",
      "[[119434   8078    368    853]\n",
      " [    60  28566     41     25]\n",
      " [   458   4440   4740     61]\n",
      " [ 20960   6201    199    874]]\n",
      "RMS Error: 1.1023726144526722\n"
     ]
    }
   ],
   "source": [
    "nb = GaussianNB()\n",
    "\n",
    "print(\"-> fit start\")\n",
    "nb.fit(X_train_std, y_train)\n",
    "print(\"-> fit complete\")\n",
    "\n",
    "print(\"-> prediction start\")\n",
    "y_pred= nb.predict(X_test_std)\n",
    "print(\"-> prediction complete\")\n",
    "\n",
    "nb_accuracy_score = accuracy_score(y_test, y_pred)\n",
    "nb_precision_score = precision_score(y_test, y_pred, average='weighted')\n",
    "nb_recall_score = recall_score(y_test, y_pred, average='weighted')\n",
    "nb_f1_score = 2 * (nb_precision_score * nb_recall_score) / (nb_precision_score + nb_recall_score)\n",
    "\n",
    "nb_rms_error = np.sqrt(mean_squared_error(y_test, y_pred))\n",
    "\n",
    "print(\"\\nAccuracy score with GaussianNB:\", nb_accuracy_score)\n",
    "print(\"Precision score with GaussianNB:\", nb_precision_score)\n",
    "print(\"Recall score with GaussianNB:\", nb_recall_score)\n",
    "print(\"F1 score with GaussianNB:\", nb_f1_score)\n",
    "print(\"\\nconfusion Matrix: \", confusion_matrix(y_test, y_pred), sep=\"\\n\")\n",
    "print(\"RMS Error:\", nb_rms_error)"
   ]
  },
  {
   "cell_type": "markdown",
   "metadata": {},
   "source": [
    "### DecisionTreeClassifier"
   ]
  },
  {
   "cell_type": "code",
   "execution_count": null,
   "metadata": {},
   "outputs": [
    {
     "name": "stdout",
     "output_type": "stream",
     "text": [
      "-> fit start\n",
      "-> fit complete\n",
      "-> prediction start\n",
      "-> prediction complete\n",
      "\n",
      "Accuracy score with DesicionTreeClassifier: 0.9563672846773615\n",
      "Precision score with DesicionTreeClassifier: 0.9558238490440104\n",
      "Recall score with DesicionTreeClassifier: 0.9563672846773615\n",
      "F1 score with DesicionTreeClassifier: 0.9560954896397736\n",
      "\n",
      "confusion Matrix: \n",
      "[[125929     35     60   2709]\n",
      " [    40  28143     89    420]\n",
      " [    59     76   9114    450]\n",
      " [  3676    601    309  23648]]\n",
      "RMS Error: 0.5679856735026977\n"
     ]
    }
   ],
   "source": [
    "dt = DecisionTreeClassifier(random_state=42)\n",
    "\n",
    "print(\"-> fit start\")\n",
    "dt.fit(X_train_nml, y_train)\n",
    "print(\"-> fit complete\")\n",
    "\n",
    "print(\"-> prediction start\")\n",
    "y_pred= dt.predict(X_test_nml)\n",
    "print(\"-> prediction complete\")\n",
    "\n",
    "dt_accuracy_score = accuracy_score(y_test, y_pred)\n",
    "dt_precision_score = precision_score(y_test, y_pred, average='weighted')\n",
    "dt_recall_score = recall_score(y_test, y_pred, average='weighted')\n",
    "dt_f1_score = 2 * (dt_precision_score * dt_recall_score) / (dt_precision_score + dt_recall_score)\n",
    "\n",
    "dt_rms_error = np.sqrt(mean_squared_error(y_test, y_pred))\n",
    "\n",
    "print(\"\\nAccuracy score with DesicionTreeClassifier:\", dt_accuracy_score)\n",
    "print(\"Precision score with DesicionTreeClassifier:\", dt_precision_score)\n",
    "print(\"Recall score with DesicionTreeClassifier:\", dt_recall_score)\n",
    "print(\"F1 score with DesicionTreeClassifier:\", dt_f1_score)\n",
    "print(\"\\nconfusion Matrix: \", confusion_matrix(y_test, y_pred), sep=\"\\n\")\n",
    "print(\"RMS Error:\", dt_rms_error)"
   ]
  },
  {
   "cell_type": "markdown",
   "metadata": {},
   "source": [
    "### RandomForestClassifier"
   ]
  },
  {
   "cell_type": "code",
   "execution_count": null,
   "metadata": {},
   "outputs": [
    {
     "name": "stdout",
     "output_type": "stream",
     "text": [
      "-> fit start\n",
      "-> fit complete\n",
      "-> prediction start\n",
      "-> prediction complete\n",
      "\n",
      "Accuracy score with RandomForestClassifier: 0.9651921088463231\n",
      "Precision score with RandomForestClassifier: 0.9647421463643828\n",
      "Recall score with RandomForestClassifier: 0.9651921088463231\n",
      "F1 score with RandomForestClassifier: 0.9649670751511736\n",
      "\n",
      "confusion Matrix: \n",
      "[[126652      9     23   2049]\n",
      " [    36  28487     12    157]\n",
      " [    57     71   9120    451]\n",
      " [  3327    531     77  24299]]\n",
      "RMS Error: 0.5164797165598152\n"
     ]
    }
   ],
   "source": [
    "rf = RandomForestClassifier(n_estimators = 700)\n",
    "\n",
    "print(\"-> fit start\")\n",
    "rf.fit(X_train_nml, y_train)\n",
    "print(\"-> fit complete\")\n",
    "\n",
    "print(\"-> prediction start\")\n",
    "y_pred= rf.predict(X_test_nml)\n",
    "print(\"-> prediction complete\")\n",
    "\n",
    "rf_accuracy_score = accuracy_score(y_test, y_pred)\n",
    "rf_precision_score = precision_score(y_test, y_pred, average='weighted')\n",
    "rf_recall_score = recall_score(y_test, y_pred, average='weighted')\n",
    "rf_f1_score = 2 * (rf_precision_score * rf_recall_score) / (rf_precision_score + rf_recall_score)\n",
    "\n",
    "rf_rms_error = np.sqrt(mean_squared_error(y_test, y_pred))\n",
    "\n",
    "print(\"\\nAccuracy score with RandomForestClassifier:\", rf_accuracy_score)\n",
    "print(\"Precision score with RandomForestClassifier:\", rf_precision_score)\n",
    "print(\"Recall score with RandomForestClassifier:\", rf_recall_score)\n",
    "print(\"F1 score with RandomForestClassifier:\", rf_f1_score)\n",
    "print(\"\\nconfusion Matrix: \", confusion_matrix(y_test, y_pred), sep=\"\\n\")\n",
    "print(\"RMS Error:\", rf_rms_error)"
   ]
  },
  {
   "cell_type": "markdown",
   "metadata": {},
   "source": [
    "### Accuracy, Precision, Recall, F1_Score Comparison Graph"
   ]
  },
  {
   "cell_type": "code",
   "execution_count": null,
   "metadata": {},
   "outputs": [
    {
     "name": "stdout",
     "output_type": "stream",
     "text": [
      "None\n"
     ]
    },
    {
     "data": {
      "image/png": "[encoded data removed]",
      "text/plain": [
       "<Figure size 1440x576 with 1 Axes>"
      ]
     },
     "metadata": {
      "needs_background": "light"
     },
     "output_type": "display_data"
    }
   ],
   "source": [
    "modelData = pd.DataFrame({\n",
    "    'model_name': ['LogisticRegression', 'KNeighborsClassifier', 'GaussianNB', 'DecisionTreeClassifier', 'RandomForestClassifier'],\n",
    "    'accuracy': [lr_accuracy_score,knn_accuracy_score, nb_accuracy_score, dt_accuracy_score, rf_accuracy_score],\n",
    "    'precision': [lr_precision_score, knn_precision_score, nb_precision_score, dt_precision_score, rf_precision_score],\n",
    "    'recall': [lr_recall_score, knn_recall_score, nb_recall_score, dt_recall_score, rf_recall_score],\n",
    "    'f1_score': [lr_f1_score, knn_f1_score, nb_f1_score, dt_f1_score, rf_f1_score],\n",
    "    'rms_error': [lr_rms_error, knn_rms_error, nb_rms_error, dt_rms_error, rf_rms_error]\n",
    "})\n",
    "print(modelData.set_index('model_name', inplace=True))\n",
    "\n",
    "modelData.iloc[:, 0:-1].plot(kind='bar', figsize=(20,8))\n",
    "plt.title('Model Comparison Graph')\n",
    "plt.xlabel('Model Names')\n",
    "plt.ylabel('Value')\n",
    "plt.ylim(bottom = 0.6, top = 1.0)\n",
    "plt.xticks(rotation=0)\n",
    "plt.legend(loc=\"upper left\")\n",
    "plt.show()"
   ]
  },
  {
   "cell_type": "markdown",
   "metadata": {},
   "source": [
    "### RMS Error Comparison Graph"
   ]
  },
  {
   "cell_type": "code",
   "execution_count": null,
   "metadata": {},
   "outputs": [
    {
     "data": {
      "image/png": "[encoded data removed]",
      "text/plain": [
       "<Figure size 864x360 with 1 Axes>"
      ]
     },
     "metadata": {
      "needs_background": "light"
     },
     "output_type": "display_data"
    }
   ],
   "source": [
    "plt.figure(figsize=(12, 5))\n",
    "plt.bar(modelData.index.values, modelData['rms_error'].values, color=red_color, width = 0.4)\n",
    "plt.title('RMSE Comparison Graph')\n",
    "plt.xlabel('Model Name')\n",
    "plt.ylabel('RMSE value')\n",
    "plt.show()"
   ]
  }
 ],
 "metadata": {
  "kernelspec": {
   "display_name": "Python 3.10.0 64-bit",
   "language": "python",
   "name": "python3"
  },
  "language_info": {
   "codemirror_mode": {
    "name": "ipython",
    "version": 3
   },
   "file_extension": ".py",
   "mimetype": "text/x-python",
   "name": "python",
   "nbconvert_exporter": "python",
   "pygments_lexer": "ipython3",
   "version": "3.10.0"
  },
  "vscode": {
   "interpreter": {
    "hash": "369f2c481f4da34e4445cda3fffd2e751bd1c4d706f27375911949ba6bb62e1c"
   }
  }
 },
 "nbformat": 4,
 "nbformat_minor": 2
}
